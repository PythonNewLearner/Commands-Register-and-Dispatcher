{
 "cells": [
  {
   "cell_type": "markdown",
   "metadata": {},
   "source": [
    "Commands register allows users to register their functions with a name given by user and parameters"
   ]
  },
  {
   "cell_type": "code",
   "execution_count": 5,
   "metadata": {},
   "outputs": [],
   "source": [
    "from functools import partial\n",
    "\n",
    "def cmds_dispatcher(defaultfn = lambda : print('Unknown Commands')):\n",
    "    commands = {}\n",
    "\n",
    "    def reg(cmd,*args,**kwargs):\n",
    "        def wrapper(fn):\n",
    "            new_fn = partial(fn,*args,**kwargs)  #partial freeze the parameters,return a new function: when registering,we condisder @reg('py',200,100) and reg('py',300,100) are different functions\n",
    "            return new_fn\n",
    "        return wrapper\n",
    "\n",
    "    def dispatcher():\n",
    "        while True:\n",
    "            cmd = input('>>>').strip()\n",
    "            if cmd == '':\n",
    "                return\n",
    "            commands.get(cmd,defaultfn)()\n",
    "            print('')\n",
    "    return reg,dispatcher"
   ]
  },
  {
   "cell_type": "code",
   "execution_count": 6,
   "metadata": {},
   "outputs": [],
   "source": [
    "reg,dispatcher = cmds_dispatcher()\n",
    "\n",
    "@reg('baichen',x=10,y=20)   #foo1 = reg('baichen')(foo1)\n",
    "def foo1(x,y):\n",
    "    print('Bai Chen',x,y)\n",
    "    \n",
    "@reg('py',a=50,b=100)\n",
    "def foo2(a,b=100):\n",
    "    print('python',a,b)\n",
    "\n",
    "@reg('new2',x=200,y=300,z=100)  #the key will be overwritten if the keys are same\n",
    "@reg('new1',x=300,y=300,z=300)\n",
    "def foo3(x,y,z):\n",
    "    print('New',x,y,z)"
   ]
  },
  {
   "cell_type": "code",
   "execution_count": 7,
   "metadata": {},
   "outputs": [
    {
     "name": "stdout",
     "output_type": "stream",
     "text": [
      "Bai Chen 10 20\n",
      "python 50 100\n",
      "New 200 300 100\n"
     ]
    }
   ],
   "source": [
    "foo1()\n",
    "foo2()\n",
    "foo3()"
   ]
  },
  {
   "cell_type": "code",
   "execution_count": 8,
   "metadata": {},
   "outputs": [
    {
     "name": "stdout",
     "output_type": "stream",
     "text": [
      ">>>baichen\n",
      "Bai Chen 10 20\n",
      "\n",
      ">>>py\n",
      "python 50 100\n",
      "\n",
      ">>>new1\n",
      "New 300 300 300\n",
      "\n",
      ">>>new2\n",
      "New 200 300 100\n",
      "\n",
      ">>>you\n",
      "Unknown Commands\n",
      "\n",
      ">>>\n"
     ]
    }
   ],
   "source": [
    "dispatcher()"
   ]
  },
  {
   "cell_type": "code",
   "execution_count": null,
   "metadata": {},
   "outputs": [],
   "source": []
  }
 ],
 "metadata": {
  "kernelspec": {
   "display_name": "Python 3",
   "language": "python",
   "name": "python3"
  },
  "language_info": {
   "codemirror_mode": {
    "name": "ipython",
    "version": 3
   },
   "file_extension": ".py",
   "mimetype": "text/x-python",
   "name": "python",
   "nbconvert_exporter": "python",
   "pygments_lexer": "ipython3",
   "version": "3.6.8"
  }
 },
 "nbformat": 4,
 "nbformat_minor": 2
}
